{
  "nbformat": 4,
  "nbformat_minor": 0,
  "metadata": {
    "colab": {
      "provenance": [],
      "authorship_tag": "ABX9TyN8blZJdO5F4b+gGsDd3Fok",
      "include_colab_link": true
    },
    "kernelspec": {
      "name": "python3",
      "display_name": "Python 3"
    },
    "language_info": {
      "name": "python"
    }
  },
  "cells": [
    {
      "cell_type": "markdown",
      "metadata": {
        "id": "view-in-github",
        "colab_type": "text"
      },
      "source": [
        "<a href=\"https://colab.research.google.com/github/nerumur/Valeria/blob/main/hw_4.ipynb\" target=\"_parent\"><img src=\"https://colab.research.google.com/assets/colab-badge.svg\" alt=\"Open In Colab\"/></a>"
      ]
    },
    {
      "cell_type": "code",
      "execution_count": null,
      "metadata": {
        "id": "J88JH--9KRXw",
        "colab": {
          "base_uri": "https://localhost:8080/"
        },
        "outputId": "abf43cf8-46da-4b97-925e-21ebeef3f7d5"
      },
      "outputs": [
        {
          "output_type": "stream",
          "name": "stdout",
          "text": [
            "Enter your password: 4545\n",
            "The password is incorrect. \n"
          ]
        }
      ],
      "source": [
        "#Task 1\n",
        "#Напишите программу для проверки пароля пользователя\n",
        "\n",
        "the_password = 5656                         #переменная с паролем\n",
        "\n",
        "password_x = input('Enter your password: ') #запрос пароля от пользователя\n",
        "\n",
        "if password_x == the_password:              #проверка корректности пароля\n",
        "  print('The password is correct. ')\n",
        "else:\n",
        "  print('The password is incorrect. ')"
      ]
    },
    {
      "cell_type": "code",
      "source": [
        "#Task 2\n",
        "#Напишите программу для проверки возраста пользователя\n",
        "\n",
        "age = int(input('Enter your age: '))        #запрос возраста пользователя\n",
        "\n",
        "if age >= 18:                               #проверка есть ли пользователю 18\n",
        "  print('Access granted. ')\n",
        "else:\n",
        "  print('Access restricted. ')"
      ],
      "metadata": {
        "colab": {
          "base_uri": "https://localhost:8080/"
        },
        "id": "4YurRz7TqyL-",
        "outputId": "cda40fc0-78e7-402c-dc39-14cabbaedcbb"
      },
      "execution_count": null,
      "outputs": [
        {
          "output_type": "stream",
          "name": "stdout",
          "text": [
            "Enter your age: 18\n",
            "Access granted. \n"
          ]
        }
      ]
    },
    {
      "cell_type": "code",
      "source": [
        "#Task 3\n",
        "#Напишите программу для приветствия пользователя\n",
        "\n",
        "time = input('Введите время (HH:MM): ')    #запрос времени у пользователя\n",
        "\n",
        "time_2 = time.split(':')                   #разделение на часы и минуты\n",
        "\n",
        "hours = int(time_2[0])                     #обращение к первому элементу после сплита\n",
        "\n",
        "if hours < 4:                              #больше 2-х вариантов -> используем if, elif, else\n",
        "  print('Доброй ночи! ')\n",
        "elif hours < 12:\n",
        "  print('Доброе утро! ')\n",
        "elif hours < 17:\n",
        "  print('Добрый день! ')\n",
        "elif hours < 22:\n",
        "  print('Добрый вечер! ')\n",
        "else:\n",
        "  print('Доброй ночи! ')\n"
      ],
      "metadata": {
        "id": "KI3aLRAqaOmc",
        "colab": {
          "base_uri": "https://localhost:8080/"
        },
        "outputId": "72299d6b-b2f2-4843-cb66-9406c3b8fc38"
      },
      "execution_count": null,
      "outputs": [
        {
          "output_type": "stream",
          "name": "stdout",
          "text": [
            "Введите время (HH:MM): 13:00\n",
            "Добрый день! \n"
          ]
        }
      ]
    },
    {
      "cell_type": "code",
      "source": [
        "#Task 4\n",
        "#Целочисленный калькулятор\n",
        "\n",
        "the_expr = input('Введите выражение: ')                      #запрос выражения у пользователя\n",
        "\n",
        "the_expr2 = the_expr.split()                                 #делим строку, создаем список из 3-х элементов (по пробелу)\n",
        "\n",
        "the_second_element = (the_expr2[1])                          #обращаемся ко кторому элементу списка\n",
        "num1, num2 = int(the_expr2[0]), int(the_expr2[2])\n",
        "\n",
        "if the_second_element == '+':                                #проверяем, что записано во 2-м элементе, производим 1 из 4 действий\n",
        "  print(num1 + num2)\n",
        "\n",
        "elif the_second_element== '-':\n",
        "  print(num1 - num2)\n",
        "\n",
        "elif the_second_element == '*':\n",
        "  print(num1 * num2)\n",
        "\n",
        "elif the_second_element == '/':\n",
        "  print(num1 / num2)"
      ],
      "metadata": {
        "colab": {
          "base_uri": "https://localhost:8080/"
        },
        "id": "XNQ9ejTcGjRq",
        "outputId": "292a1289-263c-4e48-e9ea-7f842c3d848f"
      },
      "execution_count": null,
      "outputs": [
        {
          "output_type": "stream",
          "name": "stdout",
          "text": [
            "Введите выражение: 4 + 4\n",
            "8\n"
          ]
        }
      ]
    },
    {
      "cell_type": "code",
      "source": [
        "#Task 5\n",
        "#Умный калькулятор\n",
        "\n",
        "the_expr = input('Введите выражение: ')                      #запрос выражения у пользователя\n",
        "\n",
        "the_expr2 = the_expr.split()                                 #делим строку, создаем список из 3-х элементов (по пробелу)\n",
        "\n",
        "the_second_element = (the_expr2[1])                          #обращаемся ко кторому элементу списка\n",
        "num1, num2 = float(the_expr2[0]), float(the_expr2[2])\n",
        "\n",
        "if the_second_element == '+':                                #проверяем, что записано во 2-м элементе, производим 1 из 4 действий\n",
        "  result = num1 + num2                                       #записываем результат в переменную result\n",
        "\n",
        "elif the_second_element== '-':\n",
        "  result = num1 - num2\n",
        "\n",
        "elif the_second_element == '*':\n",
        "  result = num1 * num2\n",
        "\n",
        "elif the_second_element == '/':\n",
        "  result = num1 / num2\n",
        "\n",
        "elif the_second_element == '<':                              #логические выражения\n",
        "  result = num1 < num2\n",
        "elif the_second_element == '>':\n",
        "  result = num1 > num2\n",
        "elif the_second_element == '==':\n",
        "  result = num1 == num2\n",
        "\n",
        "if isinstance(result, bool):                                 #если логические выражения\n",
        "  print(result)\n",
        "\n",
        "elif isinstance(result, (int, float)):                       #если число\n",
        "    if result.is_integer():\n",
        "     print(int(result))\n",
        "    else:\n",
        "     print(float(result))\n"
      ],
      "metadata": {
        "colab": {
          "base_uri": "https://localhost:8080/"
        },
        "id": "kWCVNIfZ2pZ4",
        "outputId": "fe3db99c-346b-432d-dbf9-9c5357323837"
      },
      "execution_count": null,
      "outputs": [
        {
          "output_type": "stream",
          "name": "stdout",
          "text": [
            "Введите выражение: 4 > 5\n",
            "False\n"
          ]
        }
      ]
    },
    {
      "cell_type": "code",
      "source": [
        "#Task 6\n",
        "#Фильтрация данных\n",
        "\n",
        "products = [\"Laptop True\", \"Headphones False\", \"Smartphone True\", \"Tablet True\", \"Speaker False\"]\n",
        "\n",
        "for product in products:                                     #начинаем перебирать список\n",
        "  popolam = product.split()                                  #разбиваем элементы на 2 половинки\n",
        "  if popolam[1] == 'True':                                   #обращаемся ко второй части элемента + проверяем есть ли там 'true'\n",
        "    print(popolam[0])\n"
      ],
      "metadata": {
        "id": "X-Fze-1VlhYk",
        "colab": {
          "base_uri": "https://localhost:8080/"
        },
        "outputId": "74b7e7c5-99b1-4ac0-fffb-558e7e05a716"
      },
      "execution_count": null,
      "outputs": [
        {
          "output_type": "stream",
          "name": "stdout",
          "text": [
            "Laptop\n",
            "Smartphone\n",
            "Tablet\n"
          ]
        }
      ]
    },
    {
      "cell_type": "code",
      "source": [
        "#Task 7\n",
        "#Фильтрация по числу\n",
        "\n",
        "num_products = [\"Laptop 8\", \"Headphones 12\", \"Smartphone 41\", \"Tablet 10\", \"Speaker 6\"]\n",
        "\n",
        "for product in num_products:                                 #начинаем перебирать список\n",
        "  popolam_2 = product.split()                                #разбиваем элементы на 2 половинки\n",
        "  quantity = int(popolam_2[1])                               #приведение к числам второй половины элемента\n",
        "  if quantity >= 10:                                         #проверка - вторая часть элемента списка должна быть равна или больше десяти\n",
        "    print(popolam_2[0])\n"
      ],
      "metadata": {
        "colab": {
          "base_uri": "https://localhost:8080/"
        },
        "id": "CV12EClJ8byL",
        "outputId": "e8a18988-f51c-4b39-cfee-b5f6df174685"
      },
      "execution_count": null,
      "outputs": [
        {
          "output_type": "stream",
          "name": "stdout",
          "text": [
            "Headphones\n",
            "Smartphone\n",
            "Tablet\n"
          ]
        }
      ]
    },
    {
      "cell_type": "code",
      "source": [
        "#Task 8\n",
        "#Изменение списка\n",
        "\n",
        "new_products = [\"Desktop 16\", \"Mouse 2\", \"Keyboard 4\"]\n",
        "\n",
        "for product in new_products:\n",
        "  parts = product.split()\n",
        "  quantity_2 = int(parts[1])\n",
        "  if quantity_2 >= 10:                                             #проверка кол-ва продуктов\n",
        "    num_products.append(product)                                   #применяем append к num_products, добавляемся продукты из new_products\n",
        "\n",
        "for product in num_products[:]:                                    #[:] - создали копию списка, чтобы избежать конфликтов\n",
        "  parts = product.split()\n",
        "  quantity_2 = int(parts[1])\n",
        "  if quantity_2 < 10:                                              #проверка кол-ва продуктов\n",
        "    num_products.remove(product)                                   #удаляем из num_products элементы, количество которых меньше 10\n",
        "\n",
        "print(num_products)"
      ],
      "metadata": {
        "colab": {
          "base_uri": "https://localhost:8080/"
        },
        "id": "g1wXZvCIPFSe",
        "outputId": "472fd467-2303-4080-a469-40293c091557"
      },
      "execution_count": null,
      "outputs": [
        {
          "output_type": "stream",
          "name": "stdout",
          "text": [
            "['Headphones 12', 'Smartphone 41', 'Tablet 10', 'Desktop 16', 'Desktop 16', 'Desktop 16']\n"
          ]
        }
      ]
    },
    {
      "cell_type": "code",
      "source": [
        "#Task 9\n",
        "#Фильтрация списка имен\n",
        "\n",
        "names = [\"Tom\", \"Chloe\", \"Alex\", \"George\", \"Lauren\", \"Jordan\"]\n",
        "\n",
        "a_k = []\n",
        "l_z = []\n",
        "\n",
        "for name in names:\n",
        "  if ord(name[0]) >= 65 and ord(name[0]) <= 75:              #обращение к номерам заглавных букв в ASCII\n",
        "    a_k.append(name)\n",
        "  elif ord(name[0]) >= 97 and ord(name[0]) <= 107:           #обращение к строчным буквам\n",
        "    a_k.append(name)\n",
        "  else:\n",
        "    l_z.append(name)\n",
        "\n",
        "a_k = sorted(a_k)                                            #перезапись в оба списка отсортированных по алфавиту данных\n",
        "l_z = sorted(l_z)\n",
        "\n",
        "print(a_k)\n",
        "print(l_z)"
      ],
      "metadata": {
        "colab": {
          "base_uri": "https://localhost:8080/"
        },
        "id": "_zPQGfIgwxTt",
        "outputId": "80728b48-2745-4368-9093-c41c47a02e25"
      },
      "execution_count": null,
      "outputs": [
        {
          "output_type": "stream",
          "name": "stdout",
          "text": [
            "['Alex', 'Chloe', 'George', 'Jordan']\n",
            "['Lauren', 'Tom']\n"
          ]
        }
      ]
    },
    {
      "cell_type": "code",
      "source": [
        "#Task 10\n",
        "#Фильтрация типов\n",
        "\n",
        "mixed_list = [3, 1, \"kiwi\", 7.6, False, True, \"apple\", 2.5, \"banana\", True, 4]\n",
        "\n",
        "names = []                                              #создаем пустые списки для записи в них элементов\n",
        "nums = []\n",
        "floats = []\n",
        "bools = []\n",
        "\n",
        "for element in mixed_list:                              #cоздаем списки, содержащие элементы одного типа\n",
        "  if isinstance(element, bool):\n",
        "    bools.append(element)\n",
        "  elif isinstance(element, int):\n",
        "    nums.append(element)\n",
        "  elif isinstance(element, float):\n",
        "    floats.append(element)\n",
        "  elif isinstance(element, str):\n",
        "    names.append(element)\n",
        "\n",
        "print(sorted(nums))\n",
        "print(sorted(names))\n",
        "print(sorted(floats))\n",
        "print(sorted(bools))"
      ],
      "metadata": {
        "colab": {
          "base_uri": "https://localhost:8080/"
        },
        "id": "xlEoUARmFuLB",
        "outputId": "957c4bae-19e0-480c-eec9-5bca9e42a423"
      },
      "execution_count": 3,
      "outputs": [
        {
          "output_type": "stream",
          "name": "stdout",
          "text": [
            "[1, 3, 4]\n",
            "['apple', 'banana', 'kiwi']\n",
            "[2.5, 7.6]\n",
            "[False, True, True]\n"
          ]
        }
      ]
    }
  ]
}