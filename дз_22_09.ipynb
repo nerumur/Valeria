{
  "nbformat": 4,
  "nbformat_minor": 0,
  "metadata": {
    "colab": {
      "provenance": [],
      "authorship_tag": "ABX9TyPfOhgwB/LHTA186bldrNPl",
      "include_colab_link": true
    },
    "kernelspec": {
      "name": "python3",
      "display_name": "Python 3"
    },
    "language_info": {
      "name": "python"
    }
  },
  "cells": [
    {
      "cell_type": "markdown",
      "metadata": {
        "id": "view-in-github",
        "colab_type": "text"
      },
      "source": [
        "<a href=\"https://colab.research.google.com/github/nerumur/Valeria/blob/main/%D0%B4%D0%B7_22_09.ipynb\" target=\"_parent\"><img src=\"https://colab.research.google.com/assets/colab-badge.svg\" alt=\"Open In Colab\"/></a>"
      ]
    },
    {
      "cell_type": "code",
      "execution_count": null,
      "metadata": {
        "colab": {
          "base_uri": "https://localhost:8080/"
        },
        "id": "bpa63GgYOrfx",
        "outputId": "d117b542-341e-4b8e-e86d-8f4afb958665"
      },
      "outputs": [
        {
          "output_type": "stream",
          "name": "stdout",
          "text": [
            "Enter the first number 10\n",
            "Enter the second number 10\n",
            "20\n",
            "0\n"
          ]
        }
      ],
      "source": [
        "num_1 = int(input(\"Enter the first number \")) #задание 1\n",
        "num_2 = int(input(\"Enter the second number \"))\n",
        "print(num_1 + num_2)\n",
        "print(num_1 - num_2)\n"
      ]
    },
    {
      "cell_type": "code",
      "source": [
        "num_1 = int(input(\"Enter the first number \")) #задание 2\n",
        "num_2 = int(input(\"Enter the second number \"))\n",
        "print(num_1 * num_2)\n",
        "print(num_1 / num_2)"
      ],
      "metadata": {
        "colab": {
          "base_uri": "https://localhost:8080/"
        },
        "id": "nx6Vt0P1Y3bU",
        "outputId": "5d281efe-4d5b-48a0-fc7d-49c6704e7eca"
      },
      "execution_count": null,
      "outputs": [
        {
          "output_type": "stream",
          "name": "stdout",
          "text": [
            "Enter the first number 25\n",
            "Enter the second number 5\n",
            "125\n",
            "5.0\n"
          ]
        }
      ]
    },
    {
      "cell_type": "code",
      "source": [
        "var = int(input()) #задание 3\n",
        "var = var * var * var\n",
        "print(var)\n"
      ],
      "metadata": {
        "colab": {
          "base_uri": "https://localhost:8080/"
        },
        "id": "Iwtofq_KdM_H",
        "outputId": "78f1bb13-1cf8-452d-9425-f32124cc1852"
      },
      "execution_count": null,
      "outputs": [
        {
          "output_type": "stream",
          "name": "stdout",
          "text": [
            "3\n",
            "27\n"
          ]
        }
      ]
    },
    {
      "cell_type": "code",
      "source": [
        "num_1 = int(input()) #задание 4\n",
        "num_2 = int(input())\n",
        "num_3 = int(input())\n",
        "print((num_1 + num_2 + num_3)/3)\n",
        "\n"
      ],
      "metadata": {
        "colab": {
          "base_uri": "https://localhost:8080/"
        },
        "id": "cqaW21tVeAdK",
        "outputId": "2ab4b6e8-cabb-4330-e163-4679e8de02a5"
      },
      "execution_count": null,
      "outputs": [
        {
          "output_type": "stream",
          "name": "stdout",
          "text": [
            "5\n",
            "8\n",
            "2\n",
            "5.0\n"
          ]
        }
      ]
    }
  ]
}