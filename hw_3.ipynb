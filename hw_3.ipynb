{
  "nbformat": 4,
  "nbformat_minor": 0,
  "metadata": {
    "colab": {
      "provenance": [],
      "authorship_tag": "ABX9TyOiz7/1nyAkRo6U2j8gQk5h",
      "include_colab_link": true
    },
    "kernelspec": {
      "name": "python3",
      "display_name": "Python 3"
    },
    "language_info": {
      "name": "python"
    }
  },
  "cells": [
    {
      "cell_type": "markdown",
      "metadata": {
        "id": "view-in-github",
        "colab_type": "text"
      },
      "source": [
        "<a href=\"https://colab.research.google.com/github/nerumur/Valeria/blob/main/hw_3.ipynb\" target=\"_parent\"><img src=\"https://colab.research.google.com/assets/colab-badge.svg\" alt=\"Open In Colab\"/></a>"
      ]
    },
    {
      "cell_type": "code",
      "execution_count": null,
      "metadata": {
        "colab": {
          "base_uri": "https://localhost:8080/"
        },
        "id": "d0-eDrCtHJPG",
        "outputId": "68a7cec9-6c33-451f-c553-89fb3e807fec",
        "collapsed": true
      },
      "outputs": [
        {
          "output_type": "stream",
          "name": "stdout",
          "text": [
            "--2024-10-13 19:59:47--  https://raw.githubusercontent.com/vifirsanova/hse-python-course/main/data/data_cleaning.txt\n",
            "Resolving raw.githubusercontent.com (raw.githubusercontent.com)... 185.199.109.133, 185.199.108.133, 185.199.111.133, ...\n",
            "Connecting to raw.githubusercontent.com (raw.githubusercontent.com)|185.199.109.133|:443... connected.\n",
            "HTTP request sent, awaiting response... 200 OK\n",
            "Length: 2377 (2.3K) [text/plain]\n",
            "Saving to: ‘data_cleaning.txt.3’\n",
            "\n",
            "\rdata_cleaning.txt.3   0%[                    ]       0  --.-KB/s               \rdata_cleaning.txt.3 100%[===================>]   2.32K  --.-KB/s    in 0s      \n",
            "\n",
            "2024-10-13 19:59:47 (25.7 MB/s) - ‘data_cleaning.txt.3’ saved [2377/2377]\n",
            "\n",
            "<!DOCTYPE html>\n",
            "<html>\n",
            "<head>\n",
            "    <title>Sample HTML Document</title>\n",
            "</head>\n",
            "<body>\n",
            "    <h1>Welcome\n"
          ]
        }
      ],
      "source": [
        "#задание 1 Загрузка данных\n",
        "\n",
        "!wget https://raw.githubusercontent.com/vifirsanova/hse-python-course/main/data/data_cleaning.txt\n",
        "\n",
        "with open('data_cleaning.txt', 'r') as f: #читаем/открываем файл\n",
        "  data = f.read()  #записываем данные в переменную\n",
        "  print(data[ :100]) #слайсим и выводим первые 100 символов\n",
        "\n"
      ]
    },
    {
      "cell_type": "code",
      "source": [
        "#задание 2 Удаление артефактов\n",
        "\n",
        "import re\n",
        "\n",
        "clean_text = re.sub(r'<[^>]+>', '' , data)  #удаляем тэги\n",
        "print(clean_text[720:801])\n",
        "\n",
        "clean_text = re.sub(r'&\\w+;', '', clean_text) #удаляем специальные символы\n",
        "print(clean_text[720:801])\n",
        "\n",
        "clean_text = re.sub(r'\\s+', ' ', clean_text) #удаляем двойные пробелы\n",
        "clean_text[ :101] #выводим первые 100 символов без принта\n"
      ],
      "metadata": {
        "colab": {
          "base_uri": "https://localhost:8080/",
          "height": 86
        },
        "collapsed": true,
        "id": "ZYHzDs5zd56i",
        "outputId": "142dd3e7-343a-44ed-e2a2-4eef830dfb79"
      },
      "execution_count": null,
      "outputs": [
        {
          "output_type": "stream",
          "name": "stdout",
          "text": [
            " It's crucial to handle HTML entities such as &lt;div&gt;, &lt;p&gt;, &amp;, etc.\n",
            " It's crucial to handle HTML entities such as div, p, , etc. HTML entities are sp\n"
          ]
        },
        {
          "output_type": "execute_result",
          "data": {
            "text/plain": [
              "' Sample HTML Document Welcome to Data Cleaning This is a sample paragraph with HTML artifacts such as'"
            ],
            "application/vnd.google.colaboratory.intrinsic+json": {
              "type": "string"
            }
          },
          "metadata": {},
          "execution_count": 28
        }
      ]
    },
    {
      "cell_type": "code",
      "source": [
        "#задание 3 Смена регистра\n",
        "\n",
        "text_lower = clean_text.lower() #приводим к нижнему регистру\n",
        "print(text_lower[-100:]) #выводим последние 100 символов\n",
        "\n"
      ],
      "metadata": {
        "colab": {
          "base_uri": "https://localhost:8080/"
        },
        "id": "A99hsAh7taXl",
        "outputId": "63379800-9936-48df-e422-658d6a243e22"
      },
      "execution_count": null,
      "outputs": [
        {
          "output_type": "stream",
          "name": "stdout",
          "text": [
            "2096\n",
            "e learning models, making predictions, or generating insights to support decision-making processes. \n"
          ]
        }
      ]
    },
    {
      "cell_type": "code",
      "source": [
        "#задание 4 Удаление стоп-слов\n",
        "\n",
        "!wget https://raw.githubusercontent.com/vifirsanova/hse-python-course/main/data/stopwords.txt\n",
        "\n",
        "with open('stopwords.txt', 'r') as f:\n",
        "  stopwords = f.read().split() #записываем данные в переменную\n",
        "  print(stopwords[:10]) #выводим первые 10 стоп-слов\n",
        "\n",
        "import random\n",
        "random.choice(stopwords) #вытягиваем рандомное стоп-слово\n",
        "random_word = random.choice(stopwords) #записываем рандомное слово в переменную\n",
        "print('Случайное слово:', random_word) #выводим это слово на экран\n",
        "\n",
        "if random_word in text_lower: #проверка если ли рандомное слово в text_lower\n",
        "  print('Результат проверки: true')\n",
        "else:\n",
        "  print('Результат проверки: false')\n",
        "\n"
      ],
      "metadata": {
        "colab": {
          "base_uri": "https://localhost:8080/"
        },
        "collapsed": true,
        "id": "barZ8cK93am7",
        "outputId": "7495ba35-a14c-4a40-b695-a0201ceb9b52"
      },
      "execution_count": null,
      "outputs": [
        {
          "output_type": "stream",
          "name": "stdout",
          "text": [
            "--2024-10-13 22:28:23--  https://raw.githubusercontent.com/vifirsanova/hse-python-course/main/data/stopwords.txt\n",
            "Resolving raw.githubusercontent.com (raw.githubusercontent.com)... 185.199.109.133, 185.199.111.133, 185.199.108.133, ...\n",
            "Connecting to raw.githubusercontent.com (raw.githubusercontent.com)|185.199.109.133|:443... connected.\n",
            "HTTP request sent, awaiting response... 200 OK\n",
            "Length: 954 [text/plain]\n",
            "Saving to: ‘stopwords.txt.20’\n",
            "\n",
            "\rstopwords.txt.20      0%[                    ]       0  --.-KB/s               \rstopwords.txt.20    100%[===================>]     954  --.-KB/s    in 0s      \n",
            "\n",
            "2024-10-13 22:28:23 (53.0 MB/s) - ‘stopwords.txt.20’ saved [954/954]\n",
            "\n",
            "['a', 'about', 'above', 'after', 'again', 'against', 'all', 'am', 'an', 'and']\n",
            "Случайное слово: once\n",
            "Результат проверки: true\n"
          ]
        }
      ]
    },
    {
      "cell_type": "code",
      "source": [
        "#задание 5 Токенизация\n",
        "\n",
        "sentences = text_lower.split('.') #создание переменной + разделение на предложения\n",
        "print(sentences[:10]) #вывод первых 10 предложений\n",
        "\n",
        "tokens = text_lower.split() #делим на слова\n",
        "print(tokens[:10])\n",
        "\n",
        "clean_tokens = [] #создаем список (чтобы удалить стоп-слова)\n",
        "for token in tokens:  #итерация по списку\n",
        "  if token not in stopwords:  #проверяем отсутствие токена в списке стоп-слов\n",
        "    clean_tokens.append(token)  #добавляем токен в новый очищенный список токенов, если его нет в стоп-словах\n",
        "\n",
        "print(clean_tokens[:10]) #выводим первые 10 элементов\n"
      ],
      "metadata": {
        "colab": {
          "base_uri": "https://localhost:8080/"
        },
        "collapsed": true,
        "id": "4zq6dDXM_5iF",
        "outputId": "34d2b1e9-070c-4ef1-a3af-889595caf369"
      },
      "execution_count": null,
      "outputs": [
        {
          "output_type": "stream",
          "name": "stdout",
          "text": [
            "[' sample html document welcome to data cleaning this is a sample paragraph with html artifacts such as bold and italic text', ' data cleaning is an essential process in preparing data for analysis', ' it involves various techniques to clean, transform, and preprocess data', ' in data cleaning, it\\'s important to remove stop words like \"the\", \"and\", \"of\", etc', ' stop words are common words that are often filtered out from text data because they do not carry significant meaning', \" here's another paragraph\", ' sometimes text is in uppercase or lowercase', \" it's important to standardize the text case to ensure consistency in the dataset\", ' this can be achieved by converting all text to lowercase or uppercase', \" it's crucial to handle html entities such as div, p, , etc\"]\n",
            "['sample', 'html', 'document', 'welcome', 'to', 'data', 'cleaning', 'this', 'is', 'a']\n",
            "['sample', 'html', 'document', 'welcome', 'data', 'cleaning', 'sample', 'paragraph', 'html', 'artifacts']\n"
          ]
        }
      ]
    },
    {
      "cell_type": "code",
      "source": [
        "#задание 6 Еще один текст\n",
        "\n",
        "!wget https://raw.githubusercontent.com/vifirsanova/hse-python-course/main/extracurricular/artefacts.txt\n",
        "\n",
        "\n",
        "with open('artefacts.txt', 'r') as f: #читаем и открываем файл\n",
        "  artefacts = f.read() #запишем данные в переменную artefacts\n",
        "\n",
        "#удаляем артифакты\n",
        "clean_text2 = re.sub(r'<[^>]+>', '' , artefacts)  #удаляем тэги\n",
        "clean_text2 = re.sub(r'&\\w+;', '', clean_text2) #удаляем специальные символы\n",
        "clean_text2 = re.sub(r'\\s+', ' ', clean_text2) #удаляем двойные пробелы\n",
        "print('ТЕКСТ БЕЗ АРТИФАКТОВ:', clean_text2[ :101]) #выводим первые 100 символов + проверяем что сделали\n",
        "\n",
        "#привод к нижнему регистру\n",
        "lower_text2 = clean_text2.lower()\n",
        "\n",
        "#токенизируем по предложениям\n",
        "sentences2 = lower_text2.split('.')\n",
        "\n",
        "#токенизируем по словам\n",
        "tokens2 = lower_text2.split()\n",
        "\n",
        "#удаляем стоп-слова\n",
        "\n",
        "import random\n",
        "random.choice(stopwords) #вытягиваем рандомное стоп-слово\n",
        "random_word2 = random.choice(stopwords) #записываем рандомное слово в переменную\n",
        "print('Случайное слово:', random_word2) #выводим это слово на экран\n",
        "\n",
        "if random_word2 in lower_text2:  #проверка если ли рандомное слово в text_lower2\n",
        "  print('Результат проверки: true')\n",
        "else:\n",
        "  print('Результат проверки: false')\n"
      ],
      "metadata": {
        "colab": {
          "base_uri": "https://localhost:8080/"
        },
        "id": "clgTZi1JES7f",
        "outputId": "eaa4598c-f4e8-4523-ba19-618dcf96dcac"
      },
      "execution_count": null,
      "outputs": [
        {
          "output_type": "stream",
          "name": "stdout",
          "text": [
            "--2024-10-13 23:34:54--  https://raw.githubusercontent.com/vifirsanova/hse-python-course/main/extracurricular/artefacts.txt\n",
            "Resolving raw.githubusercontent.com (raw.githubusercontent.com)... 185.199.110.133, 185.199.111.133, 185.199.109.133, ...\n",
            "Connecting to raw.githubusercontent.com (raw.githubusercontent.com)|185.199.110.133|:443... connected.\n",
            "HTTP request sent, awaiting response... 200 OK\n",
            "Length: 845 [text/plain]\n",
            "Saving to: ‘artefacts.txt.20’\n",
            "\n",
            "\rartefacts.txt.20      0%[                    ]       0  --.-KB/s               \rartefacts.txt.20    100%[===================>]     845  --.-KB/s    in 0s      \n",
            "\n",
            "2024-10-13 23:34:54 (29.2 MB/s) - ‘artefacts.txt.20’ saved [845/845]\n",
            "\n",
            "ТЕКСТ БЕЗ АРТИФАКТОВ:  Sample Web Page Welcome to Our Website This is some sample text on our website. You can contact us a\n",
            "Случайное слово: we've\n",
            "Результат проверки: false\n"
          ]
        }
      ]
    }
  ]
}