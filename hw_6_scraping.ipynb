{
  "nbformat": 4,
  "nbformat_minor": 0,
  "metadata": {
    "colab": {
      "provenance": [],
      "authorship_tag": "ABX9TyNaryQLbXlt6iuj7Q8hkyWc",
      "include_colab_link": true
    },
    "kernelspec": {
      "name": "python3",
      "display_name": "Python 3"
    },
    "language_info": {
      "name": "python"
    }
  },
  "cells": [
    {
      "cell_type": "markdown",
      "metadata": {
        "id": "view-in-github",
        "colab_type": "text"
      },
      "source": [
        "<a href=\"https://colab.research.google.com/github/nerumur/Valeria/blob/main/hw_6_scraping.ipynb\" target=\"_parent\"><img src=\"https://colab.research.google.com/assets/colab-badge.svg\" alt=\"Open In Colab\"/></a>"
      ]
    },
    {
      "cell_type": "code",
      "source": [
        "# Задание 1\n",
        "\n",
        "# Импортируем библиотеки для скрейпинга веб-страниц\n",
        "\n",
        "import requests                                   # помогает нам отправлять запросы на веб-сайты и получать от них данные\n",
        "\n",
        "from bs4 import BeautifulSoup                     # помогает нам «разобрать» HTML-код страницы, чтобы мы могли легко находить нужные нам данные"
      ],
      "metadata": {
        "id": "p3D2ToRlq5Vb"
      },
      "execution_count": 45,
      "outputs": []
    },
    {
      "cell_type": "code",
      "execution_count": 46,
      "metadata": {
        "colab": {
          "base_uri": "https://localhost:8080/",
          "height": 137
        },
        "id": "s8wH5chyoezi",
        "outputId": "b9e43d17-7235-4563-d03b-307d728d7bf6"
      },
      "outputs": [
        {
          "output_type": "execute_result",
          "data": {
            "text/plain": [
              "'\"I have four legs, so why do I have to walk on two?\"\\nBRRNANA\\xa0!!, Blog postQuadrobics, also known as quads, is a form of sport whereas oneself will perform tricks such as walking, running, jumping, trotting, etc on all four legs. It is associated with sports and many companies even set up tournaments for quadrobics. You do not need to be a therian to do quadrobics, quadrobics is a choice in of itself.\\nFollowing its titular description, quadrobics is based around the exercise of the four primary muscle groups of the human body; the quadriceps, quadratus lumborum, quadriceps surae and the quadriceps femoris.\\nQuadrobics is a portmanteau of English \"Quadruped(al)\" and \"Aerobics\".\\nBelow is a full list of the correct and incorrect terminology and knowledge of quadrobics. View the key to understand the information better.\\n\\xa0 \\xa0\\xa0 \\xa0Underlined = What is\\n\\xa0 \\xa0\\xa0 \\xa0Bold = What isn\\'t\\nDespite quadrobics being a fun and therapeutic sport, there are some benefits & risks that go along with it. Please talk with a doctor or medical professional if you have any bone disorders or disabilities such as scoliosis, arthritis, or a recent bone injury that may impact your movements in quadrobics.\\nSome equipment that can be useful for quadrobics are:\\nSome basic quadrobics moves include:\\nSee a gallery of records held for quadrobics sporting events below:\\n'"
            ],
            "application/vnd.google.colaboratory.intrinsic+json": {
              "type": "string"
            }
          },
          "metadata": {},
          "execution_count": 46
        }
      ],
      "source": [
        "url = 'https://en.wikipedia.org/wiki/Chomsky_hierarchy'           # откуда скрейпим\n",
        "\n",
        "def scrape_text_from_url(url, tag, class_=None):\n",
        "# url — адрес веб-страницы, откуда мы хотим получить текст\n",
        "# tag — HTML-тег, который мы ищем (например, <p> для абзацев)\n",
        "# class_ — (необязательный) класс, который может быть у тега. Если мы не укажем класс, функция будет искать только по тегу\n",
        "\n",
        "  response = requests.get(url)    # отправляем запрос на указанный URL и сохраняем ответ в переменной response (как если бы обратились через браузер)\n",
        "\n",
        "  if response.status_code == 200:                       # если запрос успешный (возвращается значение 200). Код 200 означает, что всё в порядке\n",
        "    soup = BeautifulSoup(response.text, \"html.parser\")  # парсим контент или текст с помощью BeautifulSoup html.parser\n",
        "    paragraphs = soup.find_all(tag, class_)             # ищем теги и классы на основании аргументов функции; по умолчанию ищем только тег\n",
        "    text = ''                                           # создаем переменную text строкового типа, куда мы запишем все найденные совпадения\n",
        "    for i in paragraphs:                                # начинаем перебор элементов переменной paragraphs\n",
        "      text += i.get_text()                              # извлекаем текстовые данные\n",
        "    return text\n",
        "  else:\n",
        "    print('Ошибка: ', response.status_code)             # выводим статус-код и сообщение об ошибке\n",
        "\n",
        "scrape_text_from_url('https://therian.fandom.com/wiki/Quadrobics', 'p')   #проверка"
      ]
    },
    {
      "cell_type": "code",
      "source": [
        "# Проверяем функцию для скрейпинга: пример 2\n",
        "\n",
        "scrape_text_from_url('https://www.rottentomatoes.com/m/civil_war_2024/reviews', 'p', 'review-text')\n",
        "\n",
        "# Class: 'review-text' — это дополнительная информация. Ищем только те теги, которые имеют класс review-text\n",
        "# Это важно, потому что на странице может быть много тегов, но не все они содержат текст отзывов"
      ],
      "metadata": {
        "colab": {
          "base_uri": "https://localhost:8080/",
          "height": 137
        },
        "collapsed": true,
        "id": "nHssLw1im03W",
        "outputId": "b5787527-3216-44dc-d5aa-e1df1b03d6ac"
      },
      "execution_count": 47,
      "outputs": [
        {
          "output_type": "execute_result",
          "data": {
            "text/plain": [
              "\"Civil War is not a film about why extreme division happens; it’s about the personal impact of division at its worst.A staggering and frequently brilliant film looking at a hopefully just fictionalized version of America destroying itself from within.Garland seems poised to be make political points, to show how our current political dysfunction could lead to something far worse… but he never follows through.This violent tale of anaesthetised reporters is just a war yarn with a twist.This easy digital fakeness is there to get the audience used to it...Rather than glorifying war, the film is artful and meditative, making us feel the pointlessness of this violence, how unglamorous and exhausting and unheroic it is.It’s not always subtle, and in some cases it’s even frustrating with some of its narrative decisions, but nothing can deny its uncanny ability to leave you horrified by how war, civil or otherwise, can be truly monstrous from any humanist angle.The film isn’t very deep, but it does paint the grimmest picture possible of a divided nation with bodies bodies bodies everywhere.With a career best performance from Kirsten Dunst and a pulsating sound design, Civil War is a thrilling body of work that should be talked about in journalism circles.Garland's decision to forego any narrative antecedent makes the predictable ending that much more of a bummer. Civil War is a more muscular film than Men. Like that movie, however, it mistakes broad brush strokes for insight.Audiences expecting a meticulously-crafted backstory for how this war started and who the players are will be sorely disappointed.This is another war-is-awful movie, tracing the experiences of a team of photojournalists who throw themselves into the firing line. And even without much of a point, it's rivetingly well-made.Garland uses violence as a means to a much larger end that should leave moviegoers disturbed and, at times, sickened; that should leave us challenged to think rather than feeling any kind of welcome catharsis. The final shot ... is stunning in its irony.The film seems caught between wanting to be exciting and devastating, as it threatens to turn its captivating story into another generic shoot-them-up war film, just on a grander scale.Civil War is not a polemic, but it is a mirror to the USA’s political crisis.If beauty is the sole standard for their work, then the film’s view of war photography is as an aesthetic death cult.Garland appears to make movies less for audiences than as think pieces, and, given the esteem in which his films are held, the ploy has paid off handsomely.An urgent film about a barely-distant future.There’s a cautionary message then in the madness: stop or perish; the choice is entirely ours.Civil War is a reflection of what you bring to it. That puts the impetus on the viewer to meet the film on its level. Some won’t like what they find. The nature of that discussion is what will ultimately make this film immortal.\""
            ],
            "application/vnd.google.colaboratory.intrinsic+json": {
              "type": "string"
            }
          },
          "metadata": {},
          "execution_count": 47
        }
      ]
    },
    {
      "cell_type": "code",
      "source": [
        "# Задание 2. Написать функцию для сентимент-анализа (анализа тональности)\n",
        "\n",
        "# Загружаем списки слов с положительным и отрицательным значением\n",
        "!wget https://raw.githubusercontent.com/vifirsanova/hse-python-course/main/data/neg.txt\n",
        "!wget https://raw.githubusercontent.com/vifirsanova/hse-python-course/main/data/pos.txt\n",
        "\n",
        "with open('neg.txt') as f:        # открываем файлы + заносим в переменные\n",
        "  neg = f.read()\n",
        "\n",
        "with open('pos.txt') as f:\n",
        "  pos = f.read()"
      ],
      "metadata": {
        "id": "m1CcJYu8oVLA",
        "colab": {
          "base_uri": "https://localhost:8080/"
        },
        "collapsed": true,
        "outputId": "42e091c4-6f54-45cb-aeaa-28190eabe14e"
      },
      "execution_count": 48,
      "outputs": [
        {
          "output_type": "stream",
          "name": "stdout",
          "text": [
            "--2024-12-17 19:27:13--  https://raw.githubusercontent.com/vifirsanova/hse-python-course/main/data/neg.txt\n",
            "Resolving raw.githubusercontent.com (raw.githubusercontent.com)... 185.199.108.133, 185.199.109.133, 185.199.110.133, ...\n",
            "Connecting to raw.githubusercontent.com (raw.githubusercontent.com)|185.199.108.133|:443... connected.\n",
            "HTTP request sent, awaiting response... 200 OK\n",
            "Length: 44759 (44K) [text/plain]\n",
            "Saving to: ‘neg.txt.1’\n",
            "\n",
            "\rneg.txt.1             0%[                    ]       0  --.-KB/s               \rneg.txt.1           100%[===================>]  43.71K  --.-KB/s    in 0.01s   \n",
            "\n",
            "2024-12-17 19:27:14 (3.77 MB/s) - ‘neg.txt.1’ saved [44759/44759]\n",
            "\n",
            "--2024-12-17 19:27:14--  https://raw.githubusercontent.com/vifirsanova/hse-python-course/main/data/pos.txt\n",
            "Resolving raw.githubusercontent.com (raw.githubusercontent.com)... 185.199.111.133, 185.199.108.133, 185.199.109.133, ...\n",
            "Connecting to raw.githubusercontent.com (raw.githubusercontent.com)|185.199.111.133|:443... connected.\n",
            "HTTP request sent, awaiting response... 200 OK\n",
            "Length: 19093 (19K) [text/plain]\n",
            "Saving to: ‘pos.txt.1’\n",
            "\n",
            "pos.txt.1           100%[===================>]  18.65K  --.-KB/s    in 0.001s  \n",
            "\n",
            "2024-12-17 19:27:14 (12.5 MB/s) - ‘pos.txt.1’ saved [19093/19093]\n",
            "\n"
          ]
        }
      ]
    },
    {
      "cell_type": "code",
      "source": [
        "# Создайте списки слов, разделив строку по знаку \\n\n",
        "\n",
        "pos_list = pos.split('\\n')             # сплит создает список\n",
        "neg_list = neg.split('\\n')\n",
        "\n",
        "pos_list[:10]"
      ],
      "metadata": {
        "colab": {
          "base_uri": "https://localhost:8080/"
        },
        "id": "MLQHcmqkrDnE",
        "outputId": "eb212e9b-db56-4e16-ff5c-b0771c0e69d1"
      },
      "execution_count": 49,
      "outputs": [
        {
          "output_type": "execute_result",
          "data": {
            "text/plain": [
              "['a+',\n",
              " 'abound',\n",
              " 'abounds',\n",
              " 'abundance',\n",
              " 'abundant',\n",
              " 'accessable',\n",
              " 'accessible',\n",
              " 'acclaim',\n",
              " 'acclaimed',\n",
              " 'acclamation']"
            ]
          },
          "metadata": {},
          "execution_count": 49
        }
      ]
    },
    {
      "cell_type": "code",
      "source": [
        "import spacy\n",
        "nlp = spacy.load(\"en_core_web_sm\")\n",
        "\n",
        "'''\n",
        "Функция принимает на вход 3 аргумента:\n",
        "  - переменную text с текстов для анализа\n",
        "  - 2 списка со словами для анализа тональности: positive_words и negative_words\n",
        "'''\n",
        "\n",
        "def analyze_sentiment(text, positive_words, negative_words):    # text - любой, который хотим проанализировать; при вызове функции ставим туда текст\n",
        "\n",
        "# удалить стоп-слова и знаки препинания; использовать NLP-библиотеки для токенизации\n",
        "  doc = nlp(text.lower())                                    # токенизируем текст + приводим к нижнему регистру\n",
        "  filtered_tokens = []\n",
        "  for t in doc:                                              # для каждого tokena в doc\n",
        "    if not t.is_stop and not t.is_punct:                     # проверяем является ли токен стоп-словом или пунктуацией\n",
        "        filtered_tokens.append(t.text)                       # добавляем его в список\n",
        "\n",
        "  words = filtered_tokens                                    # запишите результат в переменную words\n",
        "\n",
        "# Считаем скор тональности: количество пересечений между списками words и положительными / отрицательными словами\n",
        "  positive_count = sum(1 for word in words if word in positive_words)\n",
        "  negative_count = sum(1 for word in words if word in negative_words)\n",
        "  if positive_count > negative_count:               # если положительный скор больше отрицательного, возвращаем строчку 'positive'\n",
        "    return 'positive'\n",
        "  elif negative_count > positive_count:\n",
        "    return 'negative'                               # если отрицательный скор больше положительного, возвращаем строчку 'negative'\n",
        "  else:\n",
        "    return 'neutral'                                # иначе возвращаем строчку 'neutral'"
      ],
      "metadata": {
        "id": "FDd3iB5t2a_D"
      },
      "execution_count": 50,
      "outputs": []
    },
    {
      "cell_type": "code",
      "source": [
        "'''\n",
        "Проверяем функцию для анализа тональности: пример 1\n",
        "'''\n",
        "\n",
        "result = analyze_sentiment('This sample text is awesome!', pos_list, neg_list)\n",
        "print(result)"
      ],
      "metadata": {
        "colab": {
          "base_uri": "https://localhost:8080/"
        },
        "id": "5Hh9WRPJSDPg",
        "outputId": "d5353ac6-cd87-42a8-8117-72149dce1de3"
      },
      "execution_count": 51,
      "outputs": [
        {
          "output_type": "stream",
          "name": "stdout",
          "text": [
            "positive\n"
          ]
        }
      ]
    },
    {
      "cell_type": "code",
      "source": [
        "'''\n",
        "Проверяем функцию для анализа тональности: пример 2\n",
        "'''\n",
        "\n",
        "analyze_sentiment('I hate this sample text.', pos_list, neg_list)"
      ],
      "metadata": {
        "colab": {
          "base_uri": "https://localhost:8080/",
          "height": 35
        },
        "id": "9ftajj7vSKNE",
        "outputId": "0f66e49a-69f9-40b8-efea-10c1169a4b60"
      },
      "execution_count": 52,
      "outputs": [
        {
          "output_type": "execute_result",
          "data": {
            "text/plain": [
              "'negative'"
            ],
            "application/vnd.google.colaboratory.intrinsic+json": {
              "type": "string"
            }
          },
          "metadata": {},
          "execution_count": 52
        }
      ]
    },
    {
      "cell_type": "code",
      "source": [
        "'''\n",
        "Проверяем функцию для анализа тональности: пример 3\n",
        "'''\n",
        "\n",
        "analyze_sentiment('We love and hate this sample text at the same time!', pos_list, neg_list)"
      ],
      "metadata": {
        "colab": {
          "base_uri": "https://localhost:8080/",
          "height": 35
        },
        "id": "y7CErRADSL5a",
        "outputId": "a1a63b1b-7e7e-4d86-be4b-698b467d702e"
      },
      "execution_count": 53,
      "outputs": [
        {
          "output_type": "execute_result",
          "data": {
            "text/plain": [
              "'neutral'"
            ],
            "application/vnd.google.colaboratory.intrinsic+json": {
              "type": "string"
            }
          },
          "metadata": {},
          "execution_count": 53
        }
      ]
    },
    {
      "cell_type": "code",
      "source": [
        "# Задача 3. Написать функцию для вывода сентимент-скоров.\n",
        "\n",
        "'''\n",
        "Допишите функцию для вывода скоров по заданному URL\n",
        "'''\n",
        "\n",
        "def analyze(positive_words, negative_words, url, tag, class_=None):\n",
        "  scraped_text = scrape_text_from_url(url, tag, class_)           # примените функцию scrape_text_from_url\n",
        "  sentences = scraped_text.split('.')                             # сегментируйте текст по предложениям (через точку)\n",
        "  sentiments = []                                                 # создаем пустой список, куда запишем скоры\n",
        "  for s in sentences:                                             # начинаем перебор по предложениям\n",
        "    score = analyze_sentiment(s, pos_list, neg_list)              # получаем скор для данного предложения с помощью функции analyze_sentiment\n",
        "    sentiments.append(score)                                      # добавляем скор в созданный список\n",
        "  return sentiments                                               # возвращаем список скоров"
      ],
      "metadata": {
        "id": "Ws-7G30-lYb2"
      },
      "execution_count": 54,
      "outputs": []
    },
    {
      "cell_type": "code",
      "source": [
        "'''\n",
        "Тест 1\n",
        "'''\n",
        "\n",
        "analyze(url='https://en.wikipedia.org/wiki/Chomsky_hierarchy', tag='p', positive_words=pos, negative_words=neg)[:10]"
      ],
      "metadata": {
        "colab": {
          "base_uri": "https://localhost:8080/"
        },
        "id": "KglihMpv3rXs",
        "outputId": "d1e5e07a-6710-443b-8f3a-152e052940c3"
      },
      "execution_count": 55,
      "outputs": [
        {
          "output_type": "execute_result",
          "data": {
            "text/plain": [
              "['neutral',\n",
              " 'neutral',\n",
              " 'negative',\n",
              " 'negative',\n",
              " 'neutral',\n",
              " 'positive',\n",
              " 'neutral',\n",
              " 'neutral',\n",
              " 'neutral',\n",
              " 'neutral']"
            ]
          },
          "metadata": {},
          "execution_count": 55
        }
      ]
    },
    {
      "cell_type": "code",
      "source": [
        "'''\n",
        "Тест 2\n",
        "'''\n",
        "\n",
        "analyze(url='https://www.rottentomatoes.com/m/civil_war_2024/reviews', tag='p', class_='review-text', positive_words=pos, negative_words=neg)[:10]"
      ],
      "metadata": {
        "colab": {
          "base_uri": "https://localhost:8080/"
        },
        "id": "bGCi_w5Z7buH",
        "outputId": "59816491-feba-4567-c9b9-688310565d60"
      },
      "execution_count": 56,
      "outputs": [
        {
          "output_type": "execute_result",
          "data": {
            "text/plain": [
              "['negative',\n",
              " 'positive',\n",
              " 'positive',\n",
              " 'negative',\n",
              " 'positive',\n",
              " 'neutral',\n",
              " 'neutral',\n",
              " 'neutral',\n",
              " 'negative',\n",
              " 'neutral']"
            ]
          },
          "metadata": {},
          "execution_count": 56
        }
      ]
    },
    {
      "cell_type": "code",
      "source": [
        "# Задача 4. Визуализировать результаты анализа.\n",
        "\n",
        "'''\n",
        "Создаем частотный словарь с помощью библиотеки Counter.\n",
        "Можно выбрать другие веб-страницы для анализа!\n",
        "'''\n",
        "\n",
        "from collections import Counter\n",
        "\n",
        "sample1 = Counter(analyze(url='https://en.wikipedia.org/wiki/Baby_boomers', tag='p', positive_words=pos, negative_words=neg))\n",
        "sample2 = Counter(analyze(url='https://en.wikipedia.org/wiki/Generation_Z', tag='p', positive_words=pos, negative_words=neg))\n",
        "\n",
        "sample1"
      ],
      "metadata": {
        "colab": {
          "base_uri": "https://localhost:8080/"
        },
        "id": "-2QVOAad7kV9",
        "outputId": "942e1503-7251-418a-a294-1b5d0d5fc6ad"
      },
      "execution_count": 57,
      "outputs": [
        {
          "output_type": "execute_result",
          "data": {
            "text/plain": [
              "Counter({'positive': 208, 'neutral': 392, 'negative': 150})"
            ]
          },
          "metadata": {},
          "execution_count": 57
        }
      ]
    },
    {
      "cell_type": "code",
      "source": [
        "'''\n",
        "Создаем визуализацию: попробуйте использование новые данные (данные других url)\n",
        "'''\n",
        "\n",
        "import numpy as np\n",
        "import pandas as pd\n",
        "import matplotlib.pyplot as plt\n",
        "\n",
        "df1 = pd.DataFrame.from_dict(sample1, orient='index', columns=['Boomers'])\n",
        "df2 = pd.DataFrame.from_dict(sample2, orient='index', columns=['Zoomers'])\n",
        "\n",
        "fig, ax = plt.subplots(ncols=2)\n",
        "\n",
        "ax[0] = df1.plot.bar(ax=ax[0])\n",
        "ax[1] = df2.plot.bar(ax=ax[1], color='orange')"
      ],
      "metadata": {
        "colab": {
          "base_uri": "https://localhost:8080/",
          "height": 477
        },
        "id": "PmjYLezb92Jl",
        "outputId": "7252c7ba-28ad-42c8-9e03-c4a7dd08ea60"
      },
      "execution_count": 58,
      "outputs": [
        {
          "output_type": "display_data",
          "data": {
            "text/plain": [
              "<Figure size 640x480 with 2 Axes>"
            ],
            "image/png": "[encoded data removed]"
          },
          "metadata": {}
        }
      ]
    },
    {
      "cell_type": "code",
      "source": [
        "# Задача 5\n",
        "\n",
        "'''\n",
        "Соберите все 3 функции в одной ячейке ниже. Проанализируйте получшившийся код. Сделайте ревью!\n",
        "\n",
        "Попробуйте сделать рефакторинг: найти повторы в коде, избыточные конструкции и заменить их на более простые и питоничные решения.\n",
        "Рефакторинг ускоряет выполнение кода и упрощает его чтение.\n",
        "\n",
        "Улучшите код, добавьте строчки для вывода промежуточных и итоговых результатов; запустите ячейку.\n",
        "\n",
        "Это творческое задание, правильных решений нет - главное, чтобы код работал! :)\n",
        "\n",
        "Не забудьте закомментировать свои изменения.\n",
        "'''\n",
        "\n",
        "def scrape_text_from_url(url, tag, class_=None):\n",
        "  response = requests.get(url)\n",
        "  if response.status_code == 200:\n",
        "    soup = BeautifulSoup(response.text, \"html.parser\")\n",
        "    paragraphs = soup.find_all(tag, class_)\n",
        "    text = ''.join([i.get_text() for i in paragraphs])                   # поменяли цикл на list comprehension\n",
        "    print('Text from the URL: ')\n",
        "    print()\n",
        "    print(text)\n",
        "    print()\n",
        "    return text\n",
        "  else:\n",
        "    print('Ошибка: ', response.status_code)\n",
        "\n",
        "def analyze_sentiment(text, positive_words, negative_words):\n",
        "  doc = nlp(text.lower())\n",
        "  filtered_tokens = [t.text for t in doc if not t.is_stop and not t.is_punct]     # поменяли цикл на list comprehension\n",
        "  words = filtered_tokens\n",
        "  positive_count = sum(1 for word in words if word in positive_words)\n",
        "  negative_count = sum(1 for word in words if word in negative_words)\n",
        "  if positive_count > negative_count:\n",
        "    return 'positive'\n",
        "  elif negative_count > positive_count:\n",
        "    return 'negative'\n",
        "  else:\n",
        "    return 'neutral'\n",
        "\n",
        "def analyze(positive_words, negative_words, url, tag, class_=None):\n",
        "  scraped_text = scrape_text_from_url(url, tag, class_)\n",
        "  sentences = scraped_text.split('.')\n",
        "  sentiments = [analyze_sentiment(s, pos_list, neg_list) for s in sentences]      # поменяли цикл на list comprehension\n",
        "  print('Sentiment score: ')\n",
        "  print()\n",
        "  print(sentiments)\n",
        "  return sentiments"
      ],
      "metadata": {
        "id": "Qhz7B6HnICsE"
      },
      "execution_count": 67,
      "outputs": []
    }
  ]
}