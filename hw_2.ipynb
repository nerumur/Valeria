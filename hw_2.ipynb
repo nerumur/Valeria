{
  "nbformat": 4,
  "nbformat_minor": 0,
  "metadata": {
    "colab": {
      "provenance": [],
      "authorship_tag": "ABX9TyPai2+CVdOtry7LU8ShB1s8",
      "include_colab_link": true
    },
    "kernelspec": {
      "name": "python3",
      "display_name": "Python 3"
    },
    "language_info": {
      "name": "python"
    }
  },
  "cells": [
    {
      "cell_type": "markdown",
      "metadata": {
        "id": "view-in-github",
        "colab_type": "text"
      },
      "source": [
        "<a href=\"https://colab.research.google.com/github/nerumur/Valeria/blob/main/hw_2.ipynb\" target=\"_parent\"><img src=\"https://colab.research.google.com/assets/colab-badge.svg\" alt=\"Open In Colab\"/></a>"
      ]
    },
    {
      "cell_type": "code",
      "execution_count": 14,
      "metadata": {
        "colab": {
          "base_uri": "https://localhost:8080/"
        },
        "id": "Sztmz1seOxrA",
        "outputId": "1d059a92-8010-4ca7-94e0-c8c566c96982"
      },
      "outputs": [
        {
          "output_type": "stream",
          "name": "stdout",
          "text": [
            "Guess the number (from 0 to 10) 4\n",
            "Nope, that is not the number :( The number was:  10\n"
          ]
        }
      ],
      "source": [
        "#задание 1 Угадай число\n",
        "\n",
        "import random\n",
        "\n",
        "magic_number = random.randint(0, 10)\n",
        "user_number = int(input('Guess the number (from 0 to 10) '))\n",
        "if user_number == magic_number:\n",
        "  print(\"Congrats! That's the right number!\")\n",
        "else:\n",
        "  print('Nope, that is not the number :( The number was: ', magic_number)"
      ]
    },
    {
      "cell_type": "code",
      "source": [
        "#задание 2 Приветствие\n",
        "\n",
        "name = input('Enter your name ')\n",
        "print(f'Hello, {name}!')"
      ],
      "metadata": {
        "id": "VX1FeAVkhzbN",
        "colab": {
          "base_uri": "https://localhost:8080/"
        },
        "outputId": "13868cff-32a3-47a1-b80e-7cedba476391"
      },
      "execution_count": 15,
      "outputs": [
        {
          "output_type": "stream",
          "name": "stdout",
          "text": [
            "Enter your name aboba\n",
            "Hello, aboba!\n"
          ]
        }
      ]
    },
    {
      "cell_type": "code",
      "source": [
        "#задание 3 Конвертер температур\n",
        "\n",
        "temp = float(input('Введите температуру в градусах Цельсия '))\n",
        "fahrenheit = (temp * 1.8 + 32)\n",
        "print(f'Температура в градусах Цельсия: {temp} \\nТемпература в градусах Фаренгейта: {fahrenheit}')"
      ],
      "metadata": {
        "colab": {
          "base_uri": "https://localhost:8080/"
        },
        "id": "U14b0bElAbId",
        "outputId": "688ed8af-a9b3-4187-c6a2-3b945535cbfb"
      },
      "execution_count": 16,
      "outputs": [
        {
          "output_type": "stream",
          "name": "stdout",
          "text": [
            "Введите температуру в градусах Цельсия 20\n",
            "Температура в градусах Цельсия: 20.0 \n",
            "Температура в градусах Фаренгейта: 68.0\n"
          ]
        }
      ]
    },
    {
      "cell_type": "code",
      "source": [
        "#задание 4 Округление и вывод с помощью новой строки\n",
        "\n",
        "print(int(temp))\n",
        "print(int(fahrenheit))\n",
        "\n",
        "print(round(temp, 0))\n",
        "print(round(fahrenheit, 0))\n",
        "\n",
        "#в одну строку:\n",
        "\n",
        "print(f'Температура в градусах Цельсия:{(int(temp))}' + f'\\nТемпература в градусах Фаренгейта: {(int(fahrenheit))}' + f'\\nТемпература в градусах Цельсия: {(round(temp, 0))}' + f'\\nТемпература в градусах Фаренгейта:{(round(fahrenheit, 0))}')"
      ],
      "metadata": {
        "colab": {
          "base_uri": "https://localhost:8080/"
        },
        "id": "mNAydqQjLMIP",
        "outputId": "c4fc7735-fb08-404e-9853-a4e1faee0d52"
      },
      "execution_count": 17,
      "outputs": [
        {
          "output_type": "stream",
          "name": "stdout",
          "text": [
            "20\n",
            "68\n",
            "20.0\n",
            "68.0\n",
            "Температура в градусах Цельсия:20\n",
            "Температура в градусах Фаренгейта: 68\n",
            "Температура в градусах Цельсия: 20.0\n",
            "Температура в градусах Фаренгейта:68.0\n"
          ]
        }
      ]
    },
    {
      "cell_type": "code",
      "source": [
        "#задание 5 Конвертирование типов данных\n",
        "\n",
        "str_round_fahr = str(round(fahrenheit, 0))\n",
        "str_round_c = str(round(temp, 0))\n",
        "print('Температура в градусах Цельсия ' + str_round_c)\n",
        "print('Температура в градусах Фаренгейта ' + str_round_fahr)\n"
      ],
      "metadata": {
        "id": "sOZxXTLnaxfJ",
        "colab": {
          "base_uri": "https://localhost:8080/"
        },
        "outputId": "fe7d8fdd-15a1-4734-bc24-74b685e53162"
      },
      "execution_count": 23,
      "outputs": [
        {
          "output_type": "stream",
          "name": "stdout",
          "text": [
            "Температура в градусах Цельсия 20.0\n",
            "Температура в градусах Фаренгейта 68.0\n"
          ]
        }
      ]
    },
    {
      "cell_type": "code",
      "source": [
        "#задание 6 Калькулятор\n",
        "\n",
        "num1 = int(input('Введите первое число '))\n",
        "num2 = int(input('Введите второе число '))\n",
        "\n",
        "add = num1 + num2\n",
        "sub = num1 - num2\n",
        "mult = num1 * num2\n",
        "pow1 = num1 ** 2\n",
        "pow2 = num2 ** 2\n",
        "print('Результат сложения: ', add, '\\nРезультат вычитания: ', sub)\n",
        "print('Результат умножения: ', mult)\n",
        "print('Результат возведения во вторую степень первого числа ', pow1)\n",
        "print('Результат возведения во вторую степень второго числа ', pow2)"
      ],
      "metadata": {
        "colab": {
          "base_uri": "https://localhost:8080/"
        },
        "id": "r3xrFJU9hdJF",
        "outputId": "d2de3ea1-5736-4038-f5df-56b39670a8ac"
      },
      "execution_count": 25,
      "outputs": [
        {
          "output_type": "stream",
          "name": "stdout",
          "text": [
            "Введите первое число 3\n",
            "Введите второе число 2\n",
            "Результат сложения:  5 \n",
            "Результат вычитания:  1\n",
            "Результат умножения:  6\n",
            "Результат возведения во вторую степень первого числа  9\n",
            "Результат возведения во вторую степень второго числа  4\n"
          ]
        }
      ]
    },
    {
      "cell_type": "code",
      "source": [
        "#задание 7 Анкета\n",
        "\n",
        "name, age, job = input('Введите имя '), int(input('Ваш возраст ')), input('Ваша профессия ')\n",
        "print(name, age, job)"
      ],
      "metadata": {
        "colab": {
          "base_uri": "https://localhost:8080/"
        },
        "id": "LGoJ33v3kTR9",
        "outputId": "0e4995b2-1fa5-4d01-9c16-f80f95cddb66"
      },
      "execution_count": 29,
      "outputs": [
        {
          "output_type": "stream",
          "name": "stdout",
          "text": [
            "Введите имя aboba\n",
            "Ваш возраст 37\n",
            "Ваша профессия aboba\n",
            "aboba 37 aboba\n"
          ]
        }
      ]
    },
    {
      "cell_type": "code",
      "source": [
        "#задание 8 Поменять местами переменные\n",
        "\n",
        "x, y = input('Введите информацию в первую переменную '), input('Введите информацию во вторую переменную ')\n",
        "print('В первой переменной хранится', x)\n",
        "print('Во второй переменной хранится', y)\n",
        "x, y = y, x\n",
        "print('Меняем местами...')\n",
        "print('В первой переменной хранится', x)\n",
        "print('Во второй переменной хранится', y)\n",
        "\n"
      ],
      "metadata": {
        "colab": {
          "base_uri": "https://localhost:8080/"
        },
        "id": "1gc3bZuaoDJA",
        "outputId": "284ef4c5-2b5a-4620-c988-1a9ad3862dd0"
      },
      "execution_count": 33,
      "outputs": [
        {
          "output_type": "stream",
          "name": "stdout",
          "text": [
            "Введите информацию в первую переменную 2\n",
            "Введите информацию во вторую переменную 3\n",
            "В первой переменной хранится 2\n",
            "Во второй переменной хранится 3\n",
            "Меняем местами...\n",
            "В первой переменной хранится 3\n",
            "Во второй переменной хранится 2\n"
          ]
        }
      ]
    },
    {
      "cell_type": "code",
      "source": [
        "#задание 9 Дописать функцию\n",
        "\n",
        "def sum_and_product(a, b):\n",
        "  total_sum = a+b\n",
        "  product = a*b\n",
        "  return total_sum, product\n",
        "result_sum, result_product = sum_and_product(5, 3)\n",
        "print('Сумма ', result_sum, '\\nПроизведение ', result_product)"
      ],
      "metadata": {
        "colab": {
          "base_uri": "https://localhost:8080/"
        },
        "id": "F-lzW_H-qwz7",
        "outputId": "7b4c84bb-a345-4355-f66c-f1bda38b5d7c"
      },
      "execution_count": 39,
      "outputs": [
        {
          "output_type": "stream",
          "name": "stdout",
          "text": [
            "Сумма  8 \n",
            "Произведение  15\n"
          ]
        }
      ]
    },
    {
      "cell_type": "code",
      "source": [
        "#задание 10 Строка и число\n",
        "\n",
        "num1, num2 = str(input('Enter a number ')), str(input('Enter another number '))\n",
        "summ = num1 + num2\n",
        "print('Результат сложения ', summ)\n",
        "another_num1 = int(num1)\n",
        "another_num2 = int(num2)\n",
        "summ2 = another_num1 + another_num2\n",
        "print('Результат сложения ', summ2)\n",
        "\n",
        "print('______________________')\n",
        "\n",
        "#питонично\n",
        "\n",
        "num1, num2 = str(input('Enter a number ')), str(input('Enter another number '))\n",
        "summ, summ2 = num1 + num2, int(num1) + int(num2)\n",
        "print('Результат сложения ', summ,'\\nРезультат сложения ', summ2)"
      ],
      "metadata": {
        "colab": {
          "base_uri": "https://localhost:8080/"
        },
        "id": "9Wy4J8TZwzAo",
        "outputId": "90d9cd26-f110-493e-97a5-1317645cd592"
      },
      "execution_count": 52,
      "outputs": [
        {
          "output_type": "stream",
          "name": "stdout",
          "text": [
            "Enter a number 5\n",
            "Enter another number 5\n",
            "Результат сложения  55\n",
            "Результат сложения  10\n",
            "______________________\n",
            "Enter a number 5\n",
            "Enter another number 5\n",
            "Результат сложения  55 \n",
            "Результат сложения  10\n"
          ]
        }
      ]
    },
    {
      "cell_type": "code",
      "source": [],
      "metadata": {
        "id": "H7PDdzWTx__v"
      },
      "execution_count": null,
      "outputs": []
    },
    {
      "cell_type": "code",
      "source": [],
      "metadata": {
        "id": "81aj62DWx_vl"
      },
      "execution_count": null,
      "outputs": []
    }
  ]
}